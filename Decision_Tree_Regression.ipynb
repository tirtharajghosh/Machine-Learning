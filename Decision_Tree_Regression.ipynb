{
  "nbformat": 4,
  "nbformat_minor": 0,
  "metadata": {
    "colab": {
      "name": "Decision_Tree_Regression.ipynb",
      "provenance": [],
      "collapsed_sections": [],
      "toc_visible": true,
      "mount_file_id": "1DaAqFyx1NbvjE_GHR4xU1FVsbPZgLXLq",
      "authorship_tag": "ABX9TyP2njlij7IQvgz2+TvU5KtC",
      "include_colab_link": true
    },
    "kernelspec": {
      "name": "python3",
      "display_name": "Python 3"
    }
  },
  "cells": [
    {
      "cell_type": "markdown",
      "metadata": {
        "id": "view-in-github",
        "colab_type": "text"
      },
      "source": [
        "<a href=\"https://colab.research.google.com/github/tirtharajghosh/Machine-Learning/blob/master/Decision_Tree_Regression.ipynb\" target=\"_parent\"><img src=\"https://colab.research.google.com/assets/colab-badge.svg\" alt=\"Open In Colab\"/></a>"
      ]
    },
    {
      "cell_type": "markdown",
      "metadata": {
        "id": "Pl8c4BBPZZR-",
        "colab_type": "text"
      },
      "source": [
        "### Importing required libraries"
      ]
    },
    {
      "cell_type": "code",
      "metadata": {
        "id": "lwFHULYDXxMT",
        "colab_type": "code",
        "colab": {}
      },
      "source": [
        "import numpy as np\n",
        "import matplotlib.pyplot as plt\n",
        "import pandas as pd"
      ],
      "execution_count": null,
      "outputs": []
    },
    {
      "cell_type": "markdown",
      "metadata": {
        "id": "OJhDSfVwZ9Jm",
        "colab_type": "text"
      },
      "source": [
        "### Importing dataset"
      ]
    },
    {
      "cell_type": "code",
      "metadata": {
        "id": "VLrxY1XBaG-p",
        "colab_type": "code",
        "colab": {}
      },
      "source": [
        "dataset = pd.read_csv('/content/drive/My Drive/Colab Notebooks/Datasets/Position_Salaries.csv')\n",
        "x = dataset.iloc[:,1:2].values\n",
        "y = dataset.iloc[:,2].values\n",
        "\n",
        "#print(\"Value of X :\\n\",x)\n",
        "#print(\"Value of Y :\\n\",y)"
      ],
      "execution_count": null,
      "outputs": []
    },
    {
      "cell_type": "markdown",
      "metadata": {
        "id": "_YRPvo_mEwaj",
        "colab_type": "text"
      },
      "source": [
        "### Feature Scaling"
      ]
    },
    {
      "cell_type": "code",
      "metadata": {
        "id": "pKRhq23DE2tz",
        "colab_type": "code",
        "colab": {}
      },
      "source": [
        "from sklearn.preprocessing import StandardScaler\n",
        "sc_x = StandardScaler()\n",
        "sc_y = StandardScaler()\n",
        "x = sc_x.fit_transform(x)\n",
        "y = sc_y.fit_transform(y.reshape(-1, 1))\n",
        "\n",
        "#print(x)\n",
        "#print(y)"
      ],
      "execution_count": null,
      "outputs": []
    },
    {
      "cell_type": "markdown",
      "metadata": {
        "id": "tnBk0ISwowKa",
        "colab_type": "text"
      },
      "source": [
        "### Fitting SVR to the Dataset"
      ]
    },
    {
      "cell_type": "code",
      "metadata": {
        "id": "82Acm1ewo-7s",
        "colab_type": "code",
        "colab": {
          "base_uri": "https://localhost:8080/",
          "height": 105
        },
        "outputId": "d3377528-5e29-4efe-a375-96ad68e67533"
      },
      "source": [
        "from sklearn.svm import SVR\n",
        "regressor = SVR(kernel = 'rbf')\n",
        "regressor.fit(x,y)"
      ],
      "execution_count": null,
      "outputs": [
        {
          "output_type": "stream",
          "text": [
            "/usr/local/lib/python3.6/dist-packages/sklearn/utils/validation.py:760: DataConversionWarning: A column-vector y was passed when a 1d array was expected. Please change the shape of y to (n_samples, ), for example using ravel().\n",
            "  y = column_or_1d(y, warn=True)\n"
          ],
          "name": "stderr"
        },
        {
          "output_type": "execute_result",
          "data": {
            "text/plain": [
              "SVR(C=1.0, cache_size=200, coef0=0.0, degree=3, epsilon=0.1, gamma='scale',\n",
              "    kernel='rbf', max_iter=-1, shrinking=True, tol=0.001, verbose=False)"
            ]
          },
          "metadata": {
            "tags": []
          },
          "execution_count": 72
        }
      ]
    },
    {
      "cell_type": "markdown",
      "metadata": {
        "id": "AnYjoCZgeAqh",
        "colab_type": "text"
      },
      "source": [
        "### Predicting a new Result"
      ]
    },
    {
      "cell_type": "code",
      "metadata": {
        "id": "gwJW9KISeEwJ",
        "colab_type": "code",
        "colab": {
          "base_uri": "https://localhost:8080/",
          "height": 34
        },
        "outputId": "653ae89c-ee05-4f8b-a4fb-94d1304f2159"
      },
      "source": [
        "y_pred = sc_y.inverse_transform(regressor.predict(sc_x.transform(np.array([[6.5]]))))\n",
        "print(y_pred)"
      ],
      "execution_count": null,
      "outputs": [
        {
          "output_type": "stream",
          "text": [
            "[170370.0204065]\n"
          ],
          "name": "stdout"
        }
      ]
    },
    {
      "cell_type": "markdown",
      "metadata": {
        "id": "__mMy0-qp76O",
        "colab_type": "text"
      },
      "source": [
        "### Visualising the Support Vector Regression Results"
      ]
    },
    {
      "cell_type": "code",
      "metadata": {
        "id": "L6Cgh25VqBhJ",
        "colab_type": "code",
        "colab": {
          "base_uri": "https://localhost:8080/",
          "height": 295
        },
        "outputId": "26ad86f9-f3c7-4a0e-815c-540a6ab4222a"
      },
      "source": [
        "x_grid = np.arange(min(x),max(x), 0.1)\n",
        "x_grid = x_grid.reshape((len(x_grid), 1))\n",
        "plt.scatter(x, y, color = 'red')\n",
        "plt.plot(x_grid, regressor.predict(x_grid), color = 'blue')\n",
        "plt.title('Support Vector Regression')\n",
        "plt.xlabel('Position')\n",
        "plt.ylabel('Salary')\n",
        "plt.show()"
      ],
      "execution_count": null,
      "outputs": [
        {
          "output_type": "display_data",
          "data": {
            "image/png": "[encoded data removed]",
            "text/plain": [
              "<Figure size 432x288 with 1 Axes>"
            ]
          },
          "metadata": {
            "tags": [],
            "needs_background": "light"
          }
        }
      ]
    }
  ]
}