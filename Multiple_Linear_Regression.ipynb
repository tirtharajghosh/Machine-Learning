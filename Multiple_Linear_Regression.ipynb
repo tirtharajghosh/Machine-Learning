{
  "nbformat": 4,
  "nbformat_minor": 0,
  "metadata": {
    "colab": {
      "name": "Multiple_Linear_Regression.ipynb",
      "provenance": [],
      "collapsed_sections": [],
      "toc_visible": true,
      "mount_file_id": "1o8NNHvT9NNAX4KalWEJfCMqqo8IIlei8",
      "authorship_tag": "ABX9TyPaTEvQOKaqo0wtOEJhrFWb",
      "include_colab_link": true
    },
    "kernelspec": {
      "name": "python3",
      "display_name": "Python 3"
    }
  },
  "cells": [
    {
      "cell_type": "markdown",
      "metadata": {
        "id": "view-in-github",
        "colab_type": "text"
      },
      "source": [
        "<a href=\"https://colab.research.google.com/github/tirtharajghosh/Machine-Learning/blob/master/Multiple_Linear_Regression.ipynb\" target=\"_parent\"><img src=\"https://colab.research.google.com/assets/colab-badge.svg\" alt=\"Open In Colab\"/></a>"
      ]
    },
    {
      "cell_type": "markdown",
      "metadata": {
        "id": "Pl8c4BBPZZR-",
        "colab_type": "text"
      },
      "source": [
        "### Importing required libraries"
      ]
    },
    {
      "cell_type": "code",
      "metadata": {
        "id": "lwFHULYDXxMT",
        "colab_type": "code",
        "colab": {}
      },
      "source": [
        "import numpy as np\n",
        "import matplotlib.pyplot as plt\n",
        "import pandas as pd"
      ],
      "execution_count": 16,
      "outputs": []
    },
    {
      "cell_type": "markdown",
      "metadata": {
        "id": "OJhDSfVwZ9Jm",
        "colab_type": "text"
      },
      "source": [
        "### Importing dataset"
      ]
    },
    {
      "cell_type": "code",
      "metadata": {
        "id": "VLrxY1XBaG-p",
        "colab_type": "code",
        "colab": {}
      },
      "source": [
        "dataset = pd.read_csv('/content/drive/My Drive/Colab Notebooks/Datasets/50_Startups.csv')\n",
        "x = dataset.iloc[:,:-1].values\n",
        "y = dataset.iloc[:,4].values\n",
        "\n",
        "#print(\"Value of X :\\n\",x)\n",
        "#print(\"Value of Y :\\n\",y)"
      ],
      "execution_count": 17,
      "outputs": []
    },
    {
      "cell_type": "markdown",
      "metadata": {
        "id": "xZOAQ3tmMQg-",
        "colab_type": "text"
      },
      "source": [
        "### Encoding categorical data - Dummy Variables\n",
        "Note: We don't always need to use `LabelEncoder` anymore. Instead used `ColumnTransfer`."
      ]
    },
    {
      "cell_type": "code",
      "metadata": {
        "id": "ZBQ8NsouMVpD",
        "colab_type": "code",
        "colab": {}
      },
      "source": [
        "from sklearn.preprocessing import LabelEncoder, OneHotEncoder\n",
        "from sklearn.compose import ColumnTransformer\n",
        "ct = ColumnTransformer([(\"State\", OneHotEncoder(), [3])], remainder = 'passthrough')\n",
        "x = ct.fit_transform(x)\n",
        "\n",
        "#print(\"Value of X after Dummy Variable Encoding:\\n\",x)"
      ],
      "execution_count": 18,
      "outputs": []
    },
    {
      "cell_type": "markdown",
      "metadata": {
        "id": "IOs3Ot6FOmgs",
        "colab_type": "text"
      },
      "source": [
        "### Avoiding the Dummy Variable Trap\n",
        "It is a good practise to avoid Dummy Variable Trap manually. Though Scikit Learn Library takes care of this, we don't wanna create any dependencies."
      ]
    },
    {
      "cell_type": "code",
      "metadata": {
        "id": "b4ukpDssOzS5",
        "colab_type": "code",
        "colab": {}
      },
      "source": [
        "x = x[:,1:]\n",
        "#print(\"Value of X :\",x)"
      ],
      "execution_count": null,
      "outputs": []
    },
    {
      "cell_type": "markdown",
      "metadata": {
        "id": "2qUsakvX-0EQ",
        "colab_type": "text"
      },
      "source": [
        "### Splitting dataset - Training and Test\n",
        "  Note: `cross_validation` name is now deprecated and was replaced by `model_selection`\n",
        "\n"
      ]
    },
    {
      "cell_type": "code",
      "metadata": {
        "id": "mAjcuVqY_FTZ",
        "colab_type": "code",
        "colab": {}
      },
      "source": [
        "from sklearn.model_selection import train_test_split\n",
        "x_train, x_test, y_train, y_test = train_test_split(x,y,test_size=0.2,random_state = 0)"
      ],
      "execution_count": 22,
      "outputs": []
    },
    {
      "cell_type": "markdown",
      "metadata": {
        "id": "tnBk0ISwowKa",
        "colab_type": "text"
      },
      "source": [
        "### Fitting Multiple Linear Regression to the Training Set"
      ]
    },
    {
      "cell_type": "code",
      "metadata": {
        "id": "82Acm1ewo-7s",
        "colab_type": "code",
        "colab": {
          "base_uri": "https://localhost:8080/",
          "height": 34
        },
        "outputId": "95a684db-fa59-48e4-fa28-cfd44e51924c"
      },
      "source": [
        "from sklearn.linear_model import LinearRegression\n",
        "regressor = LinearRegression()\n",
        "regressor.fit(x_train,y_train)"
      ],
      "execution_count": 23,
      "outputs": [
        {
          "output_type": "execute_result",
          "data": {
            "text/plain": [
              "LinearRegression(copy_X=True, fit_intercept=True, n_jobs=None, normalize=False)"
            ]
          },
          "metadata": {
            "tags": []
          },
          "execution_count": 23
        }
      ]
    },
    {
      "cell_type": "markdown",
      "metadata": {
        "id": "__mMy0-qp76O",
        "colab_type": "text"
      },
      "source": [
        "### Predicting the Test Set Result"
      ]
    },
    {
      "cell_type": "code",
      "metadata": {
        "id": "L6Cgh25VqBhJ",
        "colab_type": "code",
        "colab": {
          "base_uri": "https://localhost:8080/",
          "height": 221
        },
        "outputId": "417d5c90-6a44-4863-f548-bff3d6ca68cd"
      },
      "source": [
        "from tabulate import tabulate\n",
        "y_pred = regressor.predict(x_test)\n",
        "print(tabulate(zip(y_test,y_pred), headers=[\"Test\",\"Prediction\"], tablefmt=\"github\"))"
      ],
      "execution_count": 24,
      "outputs": [
        {
          "output_type": "stream",
          "text": [
            "|     Test |   Prediction |\n",
            "|----------|--------------|\n",
            "| 103282   |     103015   |\n",
            "| 144259   |     132582   |\n",
            "| 146122   |     132448   |\n",
            "|  77798.8 |      71976.1 |\n",
            "| 191050   |     178537   |\n",
            "| 105008   |     116161   |\n",
            "|  81229.1 |      67851.7 |\n",
            "|  97483.6 |      98791.7 |\n",
            "| 110352   |     113969   |\n",
            "| 166188   |     167921   |\n"
          ],
          "name": "stdout"
        }
      ]
    }
  ]
}